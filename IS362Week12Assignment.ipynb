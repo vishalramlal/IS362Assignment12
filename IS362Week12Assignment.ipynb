{
 "cells": [
  {
   "cell_type": "markdown",
   "id": "c42bfa7e",
   "metadata": {},
   "source": [
    "# IS362 Week12 Assignment Preprocessing Data for scikit-learn\n",
    "Mushrooms Dataset. A famous—if slightly moldy—dataset about mushrooms can be found in the UCI repository here: https://archive.ics.uci.edu/ml/datasets/Mushroom."
   ]
  },
  {
   "cell_type": "markdown",
   "id": "a5844efb",
   "metadata": {},
   "source": [
    "##### Create a pandas DataFrame with a subset of the columns in the dataset.  You should include the column that indicates edible or poisonous, the column that includes odor, and at least one other column of your choosing. Add meaningful names for each column. \n",
    "First, pandas and other modules are loaded:"
   ]
  },
  {
   "cell_type": "code",
   "execution_count": 1,
   "id": "dc0c257c",
   "metadata": {},
   "outputs": [],
   "source": [
    "import pandas as pd\n",
    "import seaborn as sb\n",
    "import matplotlib.pyplot as mpt\n",
    "%matplotlib inline"
   ]
  },
  {
   "cell_type": "code",
   "execution_count": 2,
   "id": "5ff9c76d",
   "metadata": {},
   "outputs": [
    {
     "data": {
      "text/html": [
       "<div>\n",
       "<style scoped>\n",
       "    .dataframe tbody tr th:only-of-type {\n",
       "        vertical-align: middle;\n",
       "    }\n",
       "\n",
       "    .dataframe tbody tr th {\n",
       "        vertical-align: top;\n",
       "    }\n",
       "\n",
       "    .dataframe thead th {\n",
       "        text-align: right;\n",
       "    }\n",
       "</style>\n",
       "<table border=\"1\" class=\"dataframe\">\n",
       "  <thead>\n",
       "    <tr style=\"text-align: right;\">\n",
       "      <th></th>\n",
       "      <th>Poisonous or Edible</th>\n",
       "      <th>Odor</th>\n",
       "      <th>Habitat</th>\n",
       "    </tr>\n",
       "  </thead>\n",
       "  <tbody>\n",
       "    <tr>\n",
       "      <th>0</th>\n",
       "      <td>p</td>\n",
       "      <td>p</td>\n",
       "      <td>u</td>\n",
       "    </tr>\n",
       "    <tr>\n",
       "      <th>1</th>\n",
       "      <td>e</td>\n",
       "      <td>a</td>\n",
       "      <td>g</td>\n",
       "    </tr>\n",
       "    <tr>\n",
       "      <th>2</th>\n",
       "      <td>e</td>\n",
       "      <td>l</td>\n",
       "      <td>m</td>\n",
       "    </tr>\n",
       "    <tr>\n",
       "      <th>3</th>\n",
       "      <td>p</td>\n",
       "      <td>p</td>\n",
       "      <td>u</td>\n",
       "    </tr>\n",
       "    <tr>\n",
       "      <th>4</th>\n",
       "      <td>e</td>\n",
       "      <td>n</td>\n",
       "      <td>g</td>\n",
       "    </tr>\n",
       "    <tr>\n",
       "      <th>...</th>\n",
       "      <td>...</td>\n",
       "      <td>...</td>\n",
       "      <td>...</td>\n",
       "    </tr>\n",
       "    <tr>\n",
       "      <th>8119</th>\n",
       "      <td>e</td>\n",
       "      <td>n</td>\n",
       "      <td>l</td>\n",
       "    </tr>\n",
       "    <tr>\n",
       "      <th>8120</th>\n",
       "      <td>e</td>\n",
       "      <td>n</td>\n",
       "      <td>l</td>\n",
       "    </tr>\n",
       "    <tr>\n",
       "      <th>8121</th>\n",
       "      <td>e</td>\n",
       "      <td>n</td>\n",
       "      <td>l</td>\n",
       "    </tr>\n",
       "    <tr>\n",
       "      <th>8122</th>\n",
       "      <td>p</td>\n",
       "      <td>y</td>\n",
       "      <td>l</td>\n",
       "    </tr>\n",
       "    <tr>\n",
       "      <th>8123</th>\n",
       "      <td>e</td>\n",
       "      <td>n</td>\n",
       "      <td>l</td>\n",
       "    </tr>\n",
       "  </tbody>\n",
       "</table>\n",
       "<p>8124 rows × 3 columns</p>\n",
       "</div>"
      ],
      "text/plain": [
       "     Poisonous or Edible Odor Habitat\n",
       "0                      p    p       u\n",
       "1                      e    a       g\n",
       "2                      e    l       m\n",
       "3                      p    p       u\n",
       "4                      e    n       g\n",
       "...                  ...  ...     ...\n",
       "8119                   e    n       l\n",
       "8120                   e    n       l\n",
       "8121                   e    n       l\n",
       "8122                   p    y       l\n",
       "8123                   e    n       l\n",
       "\n",
       "[8124 rows x 3 columns]"
      ]
     },
     "execution_count": 2,
     "metadata": {},
     "output_type": "execute_result"
    }
   ],
   "source": [
    "raw_data = pd.read_csv('./agaricus-lepiota.data', usecols = [0,5,22], names = [\"Poisonous or Edible\",\"Odor\",\"Habitat\"])\n",
    "raw_data"
   ]
  },
  {
   "cell_type": "markdown",
   "id": "76529435",
   "metadata": {},
   "source": [
    "##### Replace the codes used in the data with numeric values—for example, in the first “target” column, “e” might become 0 and “p” might become 1."
   ]
  },
  {
   "cell_type": "code",
   "execution_count": 3,
   "id": "7e3074cc",
   "metadata": {},
   "outputs": [],
   "source": [
    "raw_data.replace(to_replace = {'Poisonous or Edible':{'p': 0, 'e':1}}, inplace = True)\n",
    "raw_data.replace(to_replace = {'Odor':{'a':2, 'l':3, 'c':4, 'y':5, 'f':6, 'm':7, 'n':8, 'p':9, 's':10}}, inplace = True)\n",
    "raw_data.replace(to_replace = {'Habitat':{'g':11, 'l':12, 'm':13, 'p':14, 'u':15, 'w':16, 'd':17}}, inplace = True)"
   ]
  },
  {
   "cell_type": "markdown",
   "id": "1e090c2d",
   "metadata": {},
   "source": [
    "##### Perform exploratory data analysis:  show the distribution of data for each of the columns you selected, and show scatterplots for edible/poisonous vs. odor as well as the other column that you selected."
   ]
  },
  {
   "cell_type": "code",
   "execution_count": 4,
   "id": "442c1a7a",
   "metadata": {},
   "outputs": [
    {
     "data": {
      "text/plain": [
       "<AxesSubplot:xlabel='Poisonous or Edible', ylabel='Odor'>"
      ]
     },
     "execution_count": 4,
     "metadata": {},
     "output_type": "execute_result"
    },
    {
     "data": {
      "image/png": "[encoded data removed]",
      "text/plain": [
       "<Figure size 432x288 with 1 Axes>"
      ]
     },
     "metadata": {},
     "output_type": "display_data"
    }
   ],
   "source": [
    "sb.set(style = 'whitegrid')\n",
    "sb.scatterplot(x = 'Poisonous or Edible', y = 'Odor', data = raw_data)"
   ]
  },
  {
   "cell_type": "code",
   "execution_count": 5,
   "id": "bd0e6966",
   "metadata": {},
   "outputs": [
    {
     "data": {
      "text/plain": [
       "<seaborn.axisgrid.FacetGrid at 0x7f1e96d8afd0>"
      ]
     },
     "execution_count": 5,
     "metadata": {},
     "output_type": "execute_result"
    },
    {
     "data": {
      "image/png": "[encoded data removed]",
      "text/plain": [
       "<Figure size 413.6x360 with 1 Axes>"
      ]
     },
     "metadata": {},
     "output_type": "display_data"
    }
   ],
   "source": [
    "sb.lmplot(x = 'Poisonous or Edible', y = 'Habitat', data = raw_data, hue = 'Odor')"
   ]
  },
  {
   "cell_type": "markdown",
   "id": "f724e8b9",
   "metadata": {},
   "source": [
    "#####  Preliminary conclusions: Odor does not seem to be the best indicator of whether the mushroom is poisonous nor not. The dominant odor is None."
   ]
  }
 ],
 "metadata": {
  "kernelspec": {
   "display_name": "Python 3",
   "language": "python",
   "name": "python3"
  },
  "language_info": {
   "codemirror_mode": {
    "name": "ipython",
    "version": 3
   },
   "file_extension": ".py",
   "mimetype": "text/x-python",
   "name": "python",
   "nbconvert_exporter": "python",
   "pygments_lexer": "ipython3",
   "version": "3.8.10"
  }
 },
 "nbformat": 4,
 "nbformat_minor": 5
}
